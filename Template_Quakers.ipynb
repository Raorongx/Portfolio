{
  "nbformat": 4,
  "nbformat_minor": 0,
  "metadata": {
    "colab": {
      "provenance": [],
      "include_colab_link": true
    },
    "kernelspec": {
      "name": "python3",
      "display_name": "Python 3"
    },
    "language_info": {
      "name": "python"
    }
  },
  "cells": [
    {
      "cell_type": "markdown",
      "metadata": {
        "id": "view-in-github",
        "colab_type": "text"
      },
      "source": [
        "<a href=\"https://colab.research.google.com/github/Raorongx/Portfolio/blob/new/Template_Quakers.ipynb\" target=\"_parent\"><img src=\"https://colab.research.google.com/assets/colab-badge.svg\" alt=\"Open In Colab\"/></a>"
      ]
    },
    {
      "cell_type": "code",
      "source": [
        "!git clone https://github.com/umsi-amadaman/Quaker.git"
      ],
      "metadata": {
        "id": "ThHsGxrRqrKY"
      },
      "execution_count": null,
      "outputs": []
    },
    {
      "cell_type": "markdown",
      "source": [
        "\n",
        "*   Click on the folder icon to the left to see what hte file names are.\n",
        "*   Open those files and visually inspect the context to figure out how to organize into a network"
      ],
      "metadata": {
        "id": "P60K4hnJH6xE"
      }
    },
    {
      "cell_type": "code",
      "source": [
        "import csv\n",
        "with open('/content/Quaker/quakers_vertexlist.csv', 'r') as vertexcsv:\n",
        "  pass\n",
        "\n",
        "with open('/content/Quaker/quakers_edgelist.csv', 'r') as edgecsv:\n",
        "  pass"
      ],
      "metadata": {
        "id": "IKjE6e5DCXeQ"
      },
      "execution_count": null,
      "outputs": []
    },
    {
      "cell_type": "code",
      "source": [
        "### define minimum Graph & Vertex objects.\n",
        "### what methods do you need?"
      ],
      "metadata": {
        "id": "Tqjn5MPmo-Im"
      },
      "execution_count": null,
      "outputs": []
    },
    {
      "cell_type": "code",
      "source": [
        "g = Graph()\n",
        "for i in range(5):\n",
        "    g.addVertex(i)\n",
        "g.addEdge(0,1,5)\n",
        "g.addEdge(0,5,2)"
      ],
      "metadata": {
        "id": "1B3FXm2drumH"
      },
      "execution_count": null,
      "outputs": []
    },
    {
      "cell_type": "code",
      "source": [
        "### Find the most connected Quaker\n"
      ],
      "metadata": {
        "id": "98GBlKLYtbA_"
      },
      "execution_count": null,
      "outputs": []
    },
    {
      "cell_type": "code",
      "source": [
        "### Find the Quaker with the highest Betweenness centrality\n",
        "######## which Quaker is on the most shortest path?\n",
        "############# Should we use BFS or DFS?"
      ],
      "metadata": {
        "id": "iMPeNP-zDIsm"
      },
      "execution_count": null,
      "outputs": []
    },
    {
      "cell_type": "code",
      "source": [
        "#### previously we developed this BFS that works on adjacency lists\n",
        "### we need to work with our user-defined graph & vertex objects\n",
        "### we also need to keep track of whether we're on the shortest path or not.\n",
        "\n",
        "def calculate_betweenness_centrality(graph):\n",
        "    betweenness_centrality = {}\n",
        "    vertices = list(graph.vertList.keys())\n",
        "    n = len(vertices)\n",
        "\n",
        "    for node in vertices:\n",
        "        distances = {v: -1 for v in vertices}\n",
        "        shortest_paths = {v: [] for v in vertices}\n",
        "        num_shortest_paths = {v: 0 for v in vertices}\n",
        "\n",
        "        BFS(graph, node, distances, shortest_paths, num_shortest_paths)\n",
        "\n",
        "        dependency = {v: 0.0 for v in vertices}\n",
        "        for current_vertex in reversed(vertices):\n",
        "            for predecessor in shortest_paths[current_vertex]:\n",
        "                dependency[predecessor] += (num_shortest_paths[predecessor] / num_shortest_paths[current_vertex]) * (1 + dependency[current_vertex])\n",
        "            if current_vertex != node:\n",
        "                if current_vertex not in betweenness_centrality:\n",
        "                    betweenness_centrality[current_vertex] = 0.0\n",
        "                betweenness_centrality[current_vertex] += dependency[current_vertex]\n",
        "\n",
        "    return betweenness_centrality\n",
        "'''\n",
        "discovered = [False] * n\n",
        "from collections import deque\n",
        "def BFS_AdjLists(graph, v, discovered):\n",
        "  q = deque()\n",
        "  discovered[v] = True\n",
        "  q.append(v)\n",
        "\n",
        "  while q:\n",
        "    v = q.popleft()\n",
        "    for u in graph.adjList[v]:\n",
        "      if not discovered[u]:\n",
        "        discovered[u] = True\n",
        "        q.append(u)\n",
        "\n",
        "for x in range(n):\n",
        "  if not discovered[x]:\n",
        "    BFS_AdjLists(graph, x, discovered)\n",
        "'''\n",
        "def BFS(graph, start_vertex, distances, shortest_paths, num_shortest_paths):\n",
        "    # previously we used a list called discovered to keep track of the vertices we've visited\n",
        "    # since our network is more complicated now we need to convert discovered to a dictionary\n",
        "    ### lets put it inside the function this time\n",
        "\n",
        "    # just as before we begin by marking the starting vertex as discovered (False to True)\n",
        "    ### but now we need to keep track of the distance\n",
        "    ### we also need to keep track of how many shortest paths there are for a given vertex\n",
        "    ### lets make our queue as before\n",
        "    ##### while queue is not Empty, dequeue the current vertex as before\n",
        "\n",
        "    ######### now instead of iterating through items in teh adjaceny list, where do we iterate?\n",
        "    #################. how do we check if the neighbor has been discovered?\n",
        "    #################.  what would make us update the distances & what would make us update shortest_paths\n",
        "    pass\n",
        "\n",
        "\n"
      ],
      "metadata": {
        "id": "3wBlzBo5J8XF"
      },
      "execution_count": null,
      "outputs": []
    },
    {
      "cell_type": "code",
      "source": [],
      "metadata": {
        "id": "fLcUD3LBKz8A"
      },
      "execution_count": null,
      "outputs": []
    },
    {
      "cell_type": "code",
      "source": [
        "import matplotlib.pyplot as plt\n",
        "\n",
        "QuakerMembers = list(ConnectedQuakers.keys())\n",
        "QCentrality = [QuakerCentrality[key] for key in QuakerMembers]\n",
        "QDegree = [ConnectedQuakers[key] for key in QuakerMembers]\n",
        "\n",
        "fig, ax = plt.subplots()\n",
        "ax.scatter(QDegree, QCentrality)\n",
        "\n",
        "\n",
        "for i, txt in enumerate(QuakerMembers):\n",
        "   ax.annotate(txt, ((QDegree[i]-2), QCentrality[i]+2))\n",
        "ax.set_ylabel('Betweenness Centrality')\n",
        "ax.set_xlabel('Degree')\n",
        "ax.set_xticks([0,1,2,3,4,5,6,7,8,9,10,15,20]);"
      ],
      "metadata": {
        "id": "kPBlXIZUOR0k"
      },
      "execution_count": null,
      "outputs": []
    },
    {
      "cell_type": "code",
      "source": [],
      "metadata": {
        "id": "c-A9FRjvKC8N"
      },
      "execution_count": null,
      "outputs": []
    }
  ]
}